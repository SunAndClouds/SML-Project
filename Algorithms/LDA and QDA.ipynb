{
 "cells": [
  {
   "cell_type": "code",
   "execution_count": 2,
   "id": "b0324d5d",
   "metadata": {},
   "outputs": [
    {
     "ename": "ModuleNotFoundError",
     "evalue": "No module named 'sklearn'",
     "output_type": "error",
     "traceback": [
      "\u001b[1;31m---------------------------------------------------------------------------\u001b[0m",
      "\u001b[1;31mModuleNotFoundError\u001b[0m                       Traceback (most recent call last)",
      "Input \u001b[1;32mIn [2]\u001b[0m, in \u001b[0;36m<cell line: 3>\u001b[1;34m()\u001b[0m\n\u001b[0;32m      1\u001b[0m \u001b[38;5;28;01mimport\u001b[39;00m \u001b[38;5;21;01mnumpy\u001b[39;00m \u001b[38;5;28;01mas\u001b[39;00m \u001b[38;5;21;01mnp\u001b[39;00m\n\u001b[0;32m      2\u001b[0m \u001b[38;5;28;01mimport\u001b[39;00m \u001b[38;5;21;01mpandas\u001b[39;00m \u001b[38;5;28;01mas\u001b[39;00m \u001b[38;5;21;01mpd\u001b[39;00m\n\u001b[1;32m----> 3\u001b[0m \u001b[38;5;28;01mfrom\u001b[39;00m \u001b[38;5;21;01msklearn\u001b[39;00m\u001b[38;5;21;01m.\u001b[39;00m\u001b[38;5;21;01mmodel_selection\u001b[39;00m \u001b[38;5;28;01mimport\u001b[39;00m train_test_split\n\u001b[0;32m      4\u001b[0m \u001b[38;5;28;01mfrom\u001b[39;00m \u001b[38;5;21;01msklearn\u001b[39;00m\u001b[38;5;21;01m.\u001b[39;00m\u001b[38;5;21;01mmetrics\u001b[39;00m \u001b[38;5;28;01mimport\u001b[39;00m classification_report, confusion_matrix, accuracy_score\n\u001b[0;32m      5\u001b[0m \u001b[38;5;28;01mfrom\u001b[39;00m \u001b[38;5;21;01msklearn\u001b[39;00m\u001b[38;5;21;01m.\u001b[39;00m\u001b[38;5;21;01mpreprocessing\u001b[39;00m \u001b[38;5;28;01mimport\u001b[39;00m StandardScaler\n",
      "\u001b[1;31mModuleNotFoundError\u001b[0m: No module named 'sklearn'"
     ]
    }
   ],
   "source": [
    "import numpy as np\n",
    "import pandas as pd\n",
    "from sklearn.model_selection import train_test_split\n",
    "from sklearn.metrics import classification_report, confusion_matrix, accuracy_score\n",
    "from sklearn.preprocessing import StandardScaler\n",
    "from sklearn.discriminant_analysis import LinearDiscriminantAnalysis as LDA \n",
    "from sklearn.discriminant_analysis import QuadraticDiscriminantAnalysis as QDA\n",
    "from sklearn.utils import shuffle\n",
    "from sklearn.model_selection import cross_val_score"
   ]
  },
  {
   "cell_type": "code",
   "execution_count": 1,
   "id": "73695600-9366-4766-9bde-2b6a33325c5f",
   "metadata": {},
   "outputs": [
    {
     "ename": "NameError",
     "evalue": "name 'pd' is not defined",
     "output_type": "error",
     "traceback": [
      "\u001b[1;31m---------------------------------------------------------------------------\u001b[0m",
      "\u001b[1;31mNameError\u001b[0m                                 Traceback (most recent call last)",
      "Input \u001b[1;32mIn [1]\u001b[0m, in \u001b[0;36m<cell line: 3>\u001b[1;34m()\u001b[0m\n\u001b[0;32m      1\u001b[0m \u001b[38;5;66;03m# Load the dataset\u001b[39;00m\n\u001b[0;32m      2\u001b[0m file_path \u001b[38;5;241m=\u001b[39m \u001b[38;5;124m'\u001b[39m\u001b[38;5;124mtraining_data.csv\u001b[39m\u001b[38;5;124m'\u001b[39m\n\u001b[1;32m----> 3\u001b[0m data \u001b[38;5;241m=\u001b[39m \u001b[43mpd\u001b[49m\u001b[38;5;241m.\u001b[39mread_csv(file_path)\n\u001b[0;32m      4\u001b[0m data[\u001b[38;5;124m'\u001b[39m\u001b[38;5;124mincrease_stock_binary\u001b[39m\u001b[38;5;124m'\u001b[39m] \u001b[38;5;241m=\u001b[39m data[\u001b[38;5;124m'\u001b[39m\u001b[38;5;124mincrease_stock\u001b[39m\u001b[38;5;124m'\u001b[39m]\u001b[38;5;241m.\u001b[39mapply(\u001b[38;5;28;01mlambda\u001b[39;00m x: \u001b[38;5;241m1\u001b[39m \u001b[38;5;28;01mif\u001b[39;00m x \u001b[38;5;241m==\u001b[39m \u001b[38;5;124m'\u001b[39m\u001b[38;5;124mhigh_bike_demand\u001b[39m\u001b[38;5;124m'\u001b[39m \u001b[38;5;28;01melse\u001b[39;00m \u001b[38;5;241m0\u001b[39m)\n\u001b[0;32m      6\u001b[0m \u001b[38;5;66;03m# Manually combining weather data with only numerical values\u001b[39;00m\n\u001b[0;32m      7\u001b[0m \n\u001b[0;32m      8\u001b[0m \u001b[38;5;66;03m# Creating a \"Feels-Like\" Temperature feature\u001b[39;00m\n",
      "\u001b[1;31mNameError\u001b[0m: name 'pd' is not defined"
     ]
    }
   ],
   "source": [
    "# Load the dataset\n",
    "file_path = 'training_data.csv'\n",
    "data = pd.read_csv(file_path)\n",
    "data['increase_stock_binary'] = data['increase_stock'].apply(lambda x: 1 if x == 'high_bike_demand' else 0)\n",
    "\n",
    "# Manually combining weather data with only numerical values\n",
    "\n",
    "# Creating a \"Feels-Like\" Temperature feature\n",
    "def calculate_feels_like_temp(temp, humidity, wind_speed):\n",
    "    # Constants for the formula\n",
    "    c1 = -8.78469475556\n",
    "    c2 = 1.61139411\n",
    "    c3 = 2.33854883889\n",
    "    c4 = -0.14611605\n",
    "    c5 = -0.012308094\n",
    "    c6 = -0.0164248277778\n",
    "    c7 = 0.002211732\n",
    "    c8 = 0.00072546\n",
    "    c9 = -0.000003582\n",
    "\n",
    "    apparent_temp = (c1 + (c2 * temp) + (c3 * humidity) + (c4 * temp * humidity) +\n",
    "                     (c5 * temp**2) + (c6 * humidity**2) + (c7 * temp**2 * humidity) +\n",
    "                     (c8 * temp * humidity**2) + (c9 * temp**2 * humidity**2))\n",
    "\n",
    "    # Adjusting for wind speed (only if temperature is below 10 degrees Celsius)\n",
    "    if temp < 10:\n",
    "        wind_chill = 13.12 + 0.6215 * temp - 11.37 * wind_speed**0.16 + 0.3965 * temp * wind_speed**0.16\n",
    "        return min(apparent_temp, wind_chill)\n",
    "    else:\n",
    "        return apparent_temp\n",
    "\n",
    "# Apply the function to the dataset\n",
    "data['feels_like_temp'] = data.apply(lambda x: calculate_feels_like_temp(x['temp'], x['humidity'], x['windspeed']), axis=1)\n",
    "\n",
    "\n",
    "# Creating \"workday\" feature\n",
    "data['workday'] = data.apply(lambda row: 1 if row['day_of_week'] < 5 and row['holiday'] == 0 else 0, axis=1)\n",
    "\n",
    "# Daytime: day 7-18: 1, night 19 - 6: 0\n",
    "data['daytime'] = data['hour_of_day'].apply(lambda x: 1 if x in np.arange(7, 19) else 0)\n",
    "\n",
    "# Dropping original features used in composition\n",
    "data = data.drop(['temp', 'humidity', 'windspeed','snow', 'dew', 'increase_stock', 'holiday', 'weekday',\n",
    "\n",
    "                   'day_of_week','summertime', 'month', 'hour_of_day', 'cloudcover', 'month'] , axis=1)\n",
    "\n",
    "\n",
    "\n",
    "# Displaying the modified DataFrame\n",
    "data.head()\n"
   ]
  },
  {
   "cell_type": "code",
   "execution_count": 163,
   "id": "cdadc325",
   "metadata": {},
   "outputs": [
    {
     "name": "stdout",
     "output_type": "stream",
     "text": [
      "\n",
      "Classification Report:\n",
      "               precision    recall  f1-score   support\n",
      "\n",
      "           0       0.87      0.95      0.91       262\n",
      "           1       0.59      0.34      0.43        58\n",
      "\n",
      "    accuracy                           0.84       320\n",
      "   macro avg       0.73      0.65      0.67       320\n",
      "weighted avg       0.82      0.84      0.82       320\n",
      "\n",
      "Accuracy Score: 0.8375\n"
     ]
    },
    {
     "data": {
      "image/png": "[encoded data removed]",
      "text/plain": [
       "<Figure size 432x288 with 1 Axes>"
      ]
     },
     "metadata": {
      "needs_background": "light"
     },
     "output_type": "display_data"
    }
   ],
   "source": [
    "#Initialize training data and test data\n",
    "X = data.drop(['snow', 'increase_stock', 'increase_stock_binary', 'dew', 'summertime', 'weekday'], axis=1) # , 'dew', 'summertime', 'weekday'\n",
    "y = data['increase_stock_binary']\n",
    "\n",
    "X_train, X_test, y_train, y_test = train_test_split(X, y, test_size=0.2, random_state=0)\n",
    "\n",
    "# Calculate the correlation matrix\n",
    "# corr_matrix = X_train.corr()\n",
    "\n",
    "# #Plot a heatmap\n",
    "# plt.figure(figsize=(10, 8))\n",
    "# sns.heatmap(corr_matrix, annot=True, cmap='coolwarm')\n",
    "# plt.show()\n",
    "\n",
    "# # Standardizing the features\n",
    "# scaler = StandardScaler()\n",
    "# X_train = scaler.fit_transform(X_train)\n",
    "# X_test = scaler.transform(X_test)\n",
    "\n",
    "\n",
    "# Creating the classifier to the data \n",
    "lda = LDA(n_components=1)\n",
    "\n",
    "# Fitting the classifier with the training data\n",
    "lda.fit(X_train, y_train)\n",
    "\n",
    "# Prediction on test data \n",
    "y_predic = lda.predict(X_test)\n",
    "\n",
    "# Evaluation\n",
    "# print(\"Confusion Matrix:\\n\", confusion_matrix(y_test, y_predic))\n",
    "print(\"\\nClassification Report:\\n\", classification_report(y_test, y_predic))\n",
    "print(\"Accuracy Score:\", accuracy_score(y_test, y_predic))\n",
    "\n",
    "#Plot \n",
    "classes = np.unique(y)\n",
    "colors = ['red', 'blue', 'green', 'purple', 'orange']  # Adjust as needed\n",
    "\n",
    "X_lda = lda.fit_transform(X, y)\n",
    "for i, class_name in enumerate(classes):\n",
    "    plt.scatter(X_lda[y == class_name], np.zeros_like(X_lda[y == class_name]) + i, \n",
    "                alpha=0.8, color=colors[i], label=class_name)\n",
    "\n",
    "plt.title('LDA: Projection onto the first linear discriminant')\n",
    "plt.xlabel('Linear Discriminant 1')\n",
    "plt.yticks([])\n",
    "plt.legend(loc='best')\n",
    "plt.show()\n",
    "\n"
   ]
  },
  {
   "cell_type": "code",
   "execution_count": 155,
   "id": "5e2c8882",
   "metadata": {},
   "outputs": [
    {
     "name": "stdout",
     "output_type": "stream",
     "text": [
      "\n",
      "Classification Report:\n",
      "               precision    recall  f1-score   support\n",
      "\n",
      "           0       0.89      0.49      0.63       262\n",
      "           1       0.24      0.72      0.36        58\n",
      "\n",
      "    accuracy                           0.53       320\n",
      "   macro avg       0.56      0.61      0.49       320\n",
      "weighted avg       0.77      0.53      0.58       320\n",
      "\n",
      "Accuracy Score: 0.53125\n"
     ]
    },
    {
     "name": "stderr",
     "output_type": "stream",
     "text": [
      "c:\\Users\\Asus\\anaconda3\\lib\\site-packages\\sklearn\\discriminant_analysis.py:878: UserWarning: Variables are collinear\n",
      "  warnings.warn(\"Variables are collinear\")\n"
     ]
    }
   ],
   "source": [
    "# Creating the classifier to the data \n",
    "qda = QDA()\n",
    "\n",
    "# Fitting the classifier with the training data\n",
    "qda.fit(X_train, y_train)\n",
    "\n",
    "# Prediction on test data \n",
    "y_predic = qda.predict(X_test)\n",
    "\n",
    "# Evaluation\n",
    "# print(\"Confusion Matrix:\\n\", confusion_matrix(y_test, y_predic))\n",
    "print(\"\\nClassification Report:\\n\", classification_report(y_test, y_predic))\n",
    "print(\"Accuracy Score:\", accuracy_score(y_test, y_predic))\n"
   ]
  }
 ],
 "metadata": {
  "kernelspec": {
   "display_name": "Python 3 (ipykernel)",
   "language": "python",
   "name": "python3"
  },
  "language_info": {
   "codemirror_mode": {
    "name": "ipython",
    "version": 3
   },
   "file_extension": ".py",
   "mimetype": "text/x-python",
   "name": "python",
   "nbconvert_exporter": "python",
   "pygments_lexer": "ipython3",
   "version": "3.9.13"
  }
 },
 "nbformat": 4,
 "nbformat_minor": 5
}
