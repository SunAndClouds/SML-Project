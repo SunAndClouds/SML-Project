{
 "cells": [
  {
   "cell_type": "code",
   "execution_count": 91,
   "id": "e651946f-c2a5-4c8a-bc48-abb8a25fa73d",
   "metadata": {},
   "outputs": [],
   "source": [
    "import numpy as np\n",
    "import pandas as pd\n",
    "import matplotlib.pyplot as plt\n",
    "from sklearn.model_selection import train_test_split\n",
    "from sklearn.neighbors import KNeighborsClassifier\n",
    "from sklearn.metrics import classification_report, confusion_matrix, accuracy_score\n",
    "from sklearn.preprocessing import StandardScaler, MinMaxScaler"
   ]
  },
  {
   "cell_type": "markdown",
   "id": "8ef028b6",
   "metadata": {},
   "source": [
    "Load Training Data"
   ]
  },
  {
   "cell_type": "code",
   "execution_count": 2,
   "id": "03f6f3ba",
   "metadata": {},
   "outputs": [
    {
     "data": {
      "text/html": [
       "<div>\n",
       "<style scoped>\n",
       "    .dataframe tbody tr th:only-of-type {\n",
       "        vertical-align: middle;\n",
       "    }\n",
       "\n",
       "    .dataframe tbody tr th {\n",
       "        vertical-align: top;\n",
       "    }\n",
       "\n",
       "    .dataframe thead th {\n",
       "        text-align: right;\n",
       "    }\n",
       "</style>\n",
       "<table border=\"1\" class=\"dataframe\">\n",
       "  <thead>\n",
       "    <tr style=\"text-align: right;\">\n",
       "      <th></th>\n",
       "      <th>hour_of_day</th>\n",
       "      <th>day_of_week</th>\n",
       "      <th>month</th>\n",
       "      <th>holiday</th>\n",
       "      <th>weekday</th>\n",
       "      <th>summertime</th>\n",
       "      <th>temp</th>\n",
       "      <th>dew</th>\n",
       "      <th>humidity</th>\n",
       "      <th>precip</th>\n",
       "      <th>snow</th>\n",
       "      <th>snowdepth</th>\n",
       "      <th>windspeed</th>\n",
       "      <th>cloudcover</th>\n",
       "      <th>visibility</th>\n",
       "      <th>increase_stock</th>\n",
       "      <th>increase_stock_binary</th>\n",
       "    </tr>\n",
       "  </thead>\n",
       "  <tbody>\n",
       "    <tr>\n",
       "      <th>0</th>\n",
       "      <td>5</td>\n",
       "      <td>5</td>\n",
       "      <td>1</td>\n",
       "      <td>0</td>\n",
       "      <td>0</td>\n",
       "      <td>0</td>\n",
       "      <td>-7.2</td>\n",
       "      <td>-15.0</td>\n",
       "      <td>53.68</td>\n",
       "      <td>0.0</td>\n",
       "      <td>0</td>\n",
       "      <td>0.0</td>\n",
       "      <td>16.3</td>\n",
       "      <td>31.6</td>\n",
       "      <td>16.0</td>\n",
       "      <td>low_bike_demand</td>\n",
       "      <td>0</td>\n",
       "    </tr>\n",
       "    <tr>\n",
       "      <th>1</th>\n",
       "      <td>21</td>\n",
       "      <td>4</td>\n",
       "      <td>1</td>\n",
       "      <td>0</td>\n",
       "      <td>1</td>\n",
       "      <td>0</td>\n",
       "      <td>-1.3</td>\n",
       "      <td>-12.8</td>\n",
       "      <td>40.97</td>\n",
       "      <td>0.0</td>\n",
       "      <td>0</td>\n",
       "      <td>0.0</td>\n",
       "      <td>23.9</td>\n",
       "      <td>85.7</td>\n",
       "      <td>16.0</td>\n",
       "      <td>low_bike_demand</td>\n",
       "      <td>0</td>\n",
       "    </tr>\n",
       "    <tr>\n",
       "      <th>2</th>\n",
       "      <td>21</td>\n",
       "      <td>3</td>\n",
       "      <td>8</td>\n",
       "      <td>0</td>\n",
       "      <td>1</td>\n",
       "      <td>1</td>\n",
       "      <td>26.9</td>\n",
       "      <td>21.8</td>\n",
       "      <td>73.39</td>\n",
       "      <td>0.0</td>\n",
       "      <td>0</td>\n",
       "      <td>0.0</td>\n",
       "      <td>0.0</td>\n",
       "      <td>81.1</td>\n",
       "      <td>16.0</td>\n",
       "      <td>low_bike_demand</td>\n",
       "      <td>0</td>\n",
       "    </tr>\n",
       "    <tr>\n",
       "      <th>3</th>\n",
       "      <td>1</td>\n",
       "      <td>6</td>\n",
       "      <td>1</td>\n",
       "      <td>0</td>\n",
       "      <td>0</td>\n",
       "      <td>0</td>\n",
       "      <td>3.1</td>\n",
       "      <td>-4.0</td>\n",
       "      <td>59.74</td>\n",
       "      <td>0.0</td>\n",
       "      <td>0</td>\n",
       "      <td>0.0</td>\n",
       "      <td>19.2</td>\n",
       "      <td>0.0</td>\n",
       "      <td>16.0</td>\n",
       "      <td>low_bike_demand</td>\n",
       "      <td>0</td>\n",
       "    </tr>\n",
       "    <tr>\n",
       "      <th>4</th>\n",
       "      <td>17</td>\n",
       "      <td>0</td>\n",
       "      <td>3</td>\n",
       "      <td>0</td>\n",
       "      <td>1</td>\n",
       "      <td>0</td>\n",
       "      <td>11.7</td>\n",
       "      <td>-11.4</td>\n",
       "      <td>18.71</td>\n",
       "      <td>0.0</td>\n",
       "      <td>0</td>\n",
       "      <td>0.0</td>\n",
       "      <td>10.5</td>\n",
       "      <td>44.6</td>\n",
       "      <td>16.0</td>\n",
       "      <td>low_bike_demand</td>\n",
       "      <td>0</td>\n",
       "    </tr>\n",
       "  </tbody>\n",
       "</table>\n",
       "</div>"
      ],
      "text/plain": [
       "   hour_of_day  day_of_week  month  holiday  weekday  summertime  temp   dew  \\\n",
       "0            5            5      1        0        0           0  -7.2 -15.0   \n",
       "1           21            4      1        0        1           0  -1.3 -12.8   \n",
       "2           21            3      8        0        1           1  26.9  21.8   \n",
       "3            1            6      1        0        0           0   3.1  -4.0   \n",
       "4           17            0      3        0        1           0  11.7 -11.4   \n",
       "\n",
       "   humidity  precip  snow  snowdepth  windspeed  cloudcover  visibility  \\\n",
       "0     53.68     0.0     0        0.0       16.3        31.6        16.0   \n",
       "1     40.97     0.0     0        0.0       23.9        85.7        16.0   \n",
       "2     73.39     0.0     0        0.0        0.0        81.1        16.0   \n",
       "3     59.74     0.0     0        0.0       19.2         0.0        16.0   \n",
       "4     18.71     0.0     0        0.0       10.5        44.6        16.0   \n",
       "\n",
       "    increase_stock  increase_stock_binary  \n",
       "0  low_bike_demand                      0  \n",
       "1  low_bike_demand                      0  \n",
       "2  low_bike_demand                      0  \n",
       "3  low_bike_demand                      0  \n",
       "4  low_bike_demand                      0  "
      ]
     },
     "execution_count": 2,
     "metadata": {},
     "output_type": "execute_result"
    }
   ],
   "source": [
    "# Load the dataset\n",
    "file_path = 'training_data.csv'\n",
    "data = pd.read_csv(file_path)\n",
    "data['increase_stock_binary'] = data['increase_stock'].apply(lambda x: 1 if x == 'high_bike_demand' else 0)\n",
    "\n",
    "# Display the first few rows of the dataframe\n",
    "data.head()"
   ]
  },
  {
   "cell_type": "code",
   "execution_count": 26,
   "id": "3f728aa9",
   "metadata": {},
   "outputs": [
    {
     "name": "stdout",
     "output_type": "stream",
     "text": [
      "Index(['hour_of_day', 'day_of_week', 'month', 'holiday', 'weekday',\n",
      "       'summertime', 'temp', 'dew', 'humidity', 'precip', 'snowdepth',\n",
      "       'windspeed', 'cloudcover', 'visibility'],\n",
      "      dtype='object')\n"
     ]
    }
   ],
   "source": [
    "# Separating features and the target variable\n",
    "X = data.drop([\n",
    "    'increase_stock', \n",
    "    'increase_stock_binary', \n",
    "    'snow'\n",
    "], axis=1)\n",
    "print(X.keys())\n",
    "y = data['increase_stock_binary']\n",
    "\n",
    "# Splitting the data into training and test sets\n",
    "X_train, X_test, y_train, y_test = train_test_split(X, y, test_size=0.2, random_state=0)"
   ]
  },
  {
   "cell_type": "code",
   "execution_count": 12,
   "id": "89b8ded1",
   "metadata": {},
   "outputs": [
    {
     "name": "stdout",
     "output_type": "stream",
     "text": [
      "Classification Report:\n",
      "               precision    recall  f1-score   support\n",
      "\n",
      "           0       0.87      0.96      0.91       262\n",
      "           1       0.63      0.33      0.43        58\n",
      "\n",
      "    accuracy                           0.84       320\n",
      "   macro avg       0.75      0.64      0.67       320\n",
      "weighted avg       0.82      0.84      0.82       320\n",
      "\n"
     ]
    },
    {
     "name": "stderr",
     "output_type": "stream",
     "text": [
      "/Users/sunandclouds/opt/anaconda3/lib/python3.8/site-packages/sklearn/neighbors/_classification.py:189: FutureWarning: Unlike other reduction functions (e.g. `skew`, `kurtosis`), the default behavior of `mode` typically preserves the axis it acts along. In SciPy 1.11.0, this behavior will change: the default value of `keepdims` will become False, the `axis` over which the statistic is taken will be eliminated, and the value None will no longer be accepted. Set `keepdims` to True or False to avoid this warning.\n",
      "  mode, _ = stats.mode(_y[neigh_ind, k], axis=1)\n"
     ]
    }
   ],
   "source": [
    "# Standardizing the features\n",
    "scaler = StandardScaler()\n",
    "X_train = scaler.fit_transform(X_train)\n",
    "X_test = scaler.transform(X_test)\n",
    "\n",
    "# Creating a KNN classifier\n",
    "knn = KNeighborsClassifier(n_neighbors=2)\n",
    "\n",
    "# Fitting the classifier to the training data\n",
    "knn.fit(X_train, y_train)\n",
    "\n",
    "# Making predictions on the test data\n",
    "y_pred = knn.predict(X_test)\n",
    "\n",
    "# Generating a classification report and confusion matrix\n",
    "classification_report_result = classification_report(y_test, y_pred)\n",
    "confusion_matrix_result = confusion_matrix(y_test, y_pred)\n",
    "accuracy_score_data = accuracy_score(y_test,y_pred)\n",
    "# Printing the results\n",
    "print(\"Classification Report:\\n\", classification_report_result)\n",
    "#print(\"Confusion Matrix:\\n\", confusion_matrix_result)"
   ]
  },
  {
   "cell_type": "code",
   "execution_count": 9,
   "id": "2a2afb7f",
   "metadata": {},
   "outputs": [
    {
     "data": {
      "text/plain": [
       "0.84375"
      ]
     },
     "execution_count": 9,
     "metadata": {},
     "output_type": "execute_result"
    }
   ],
   "source": [
    "accuracy_score_data"
   ]
  },
  {
   "cell_type": "code",
   "execution_count": 132,
   "id": "ae9fadfa-eacb-4f48-97d0-d03cee3b4929",
   "metadata": {},
   "outputs": [
    {
     "name": "stdout",
     "output_type": "stream",
     "text": [
      "humidity                -0.31\n",
      "weekday                 -0.12\n",
      "precip                  -0.06\n",
      "snowdepth               -0.05\n",
      "cloudcover              -0.05\n",
      "holiday                 -0.00\n",
      "month                    0.04\n",
      "day_of_week              0.08\n",
      "windspeed                0.10\n",
      "visibility               0.11\n",
      "dew                      0.13\n",
      "summertime               0.22\n",
      "hour_of_day              0.24\n",
      "temp                     0.34\n",
      "increase_stock_binary    1.00\n",
      "Name: increase_stock_binary, dtype: float64\n"
     ]
    },
    {
     "data": {
      "text/plain": [
       "['windspeed',\n",
       " 'visibility',\n",
       " 'dew',\n",
       " 'summertime',\n",
       " 'hour_of_day',\n",
       " 'temp',\n",
       " 'humidity',\n",
       " 'weekday']"
      ]
     },
     "execution_count": 132,
     "metadata": {},
     "output_type": "execute_result"
    }
   ],
   "source": [
    "corr_coeffs = data.drop(['increase_stock', 'snow'], axis=1).corr().iloc[-1].sort_values()\n",
    "print(corr_coeffs.round(2))\n",
    "important_features = corr_coeffs.iloc[-7:-1].keys().tolist() + corr_coeffs.iloc[:2].keys().tolist()\n",
    "important_features"
   ]
  },
  {
   "cell_type": "code",
   "execution_count": 133,
   "id": "cfa858aa-3de8-42bd-b6e7-0714baad50c1",
   "metadata": {},
   "outputs": [
    {
     "name": "stdout",
     "output_type": "stream",
     "text": [
      "Classification Report:\n",
      "               precision    recall  f1-score   support\n",
      "\n",
      "           0       0.87      0.96      0.91       262\n",
      "           1       0.66      0.33      0.44        58\n",
      "\n",
      "    accuracy                           0.85       320\n",
      "   macro avg       0.76      0.64      0.67       320\n",
      "weighted avg       0.83      0.85      0.83       320\n",
      "\n"
     ]
    },
    {
     "name": "stderr",
     "output_type": "stream",
     "text": [
      "/Users/sunandclouds/opt/anaconda3/lib/python3.8/site-packages/sklearn/neighbors/_classification.py:189: FutureWarning: Unlike other reduction functions (e.g. `skew`, `kurtosis`), the default behavior of `mode` typically preserves the axis it acts along. In SciPy 1.11.0, this behavior will change: the default value of `keepdims` will become False, the `axis` over which the statistic is taken will be eliminated, and the value None will no longer be accepted. Set `keepdims` to True or False to avoid this warning.\n",
      "  mode, _ = stats.mode(_y[neigh_ind, k], axis=1)\n"
     ]
    }
   ],
   "source": [
    "X = data[important_features]\n",
    "X_train, X_test, y_train, y_test = train_test_split(X, y, test_size=0.2, random_state=0)\n",
    "\n",
    "# Standardizing the features\n",
    "scaler = StandardScaler()\n",
    "X_train = scaler.fit_transform(X_train)\n",
    "X_test = scaler.transform(X_test)\n",
    "\n",
    "# Creating a KNN classifier\n",
    "knn = KNeighborsClassifier(n_neighbors=2)\n",
    "\n",
    "# Fitting the classifier to the training data\n",
    "knn.fit(X_train, y_train)\n",
    "\n",
    "# Making predictions on the test data\n",
    "y_pred = knn.predict(X_test)\n",
    "\n",
    "# Generating a classification report and confusion matrix\n",
    "classification_report_result = classification_report(y_test, y_pred)\n",
    "confusion_matrix_result = confusion_matrix(y_test, y_pred)\n",
    "accuracy_score_data = accuracy_score(y_test,y_pred)\n",
    "# Printing the results\n",
    "print(\"Classification Report:\\n\", classification_report_result)\n",
    "#print(\"Confusion Matrix:\\n\", confusion_matrix_result)"
   ]
  },
  {
   "cell_type": "code",
   "execution_count": 134,
   "id": "fe069e3c-2e12-403a-b685-1c1b0172367c",
   "metadata": {},
   "outputs": [
    {
     "name": "stdout",
     "output_type": "stream",
     "text": [
      "Scores for each fold: [0.84375  0.85625  0.85     0.853125 0.8875  ]\n",
      "Average score: 0.8581249999999999\n"
     ]
    },
    {
     "name": "stderr",
     "output_type": "stream",
     "text": [
      "/Users/sunandclouds/opt/anaconda3/lib/python3.8/site-packages/sklearn/neighbors/_classification.py:189: FutureWarning: Unlike other reduction functions (e.g. `skew`, `kurtosis`), the default behavior of `mode` typically preserves the axis it acts along. In SciPy 1.11.0, this behavior will change: the default value of `keepdims` will become False, the `axis` over which the statistic is taken will be eliminated, and the value None will no longer be accepted. Set `keepdims` to True or False to avoid this warning.\n",
      "  mode, _ = stats.mode(_y[neigh_ind, k], axis=1)\n",
      "/Users/sunandclouds/opt/anaconda3/lib/python3.8/site-packages/sklearn/neighbors/_classification.py:189: FutureWarning: Unlike other reduction functions (e.g. `skew`, `kurtosis`), the default behavior of `mode` typically preserves the axis it acts along. In SciPy 1.11.0, this behavior will change: the default value of `keepdims` will become False, the `axis` over which the statistic is taken will be eliminated, and the value None will no longer be accepted. Set `keepdims` to True or False to avoid this warning.\n",
      "  mode, _ = stats.mode(_y[neigh_ind, k], axis=1)\n",
      "/Users/sunandclouds/opt/anaconda3/lib/python3.8/site-packages/sklearn/neighbors/_classification.py:189: FutureWarning: Unlike other reduction functions (e.g. `skew`, `kurtosis`), the default behavior of `mode` typically preserves the axis it acts along. In SciPy 1.11.0, this behavior will change: the default value of `keepdims` will become False, the `axis` over which the statistic is taken will be eliminated, and the value None will no longer be accepted. Set `keepdims` to True or False to avoid this warning.\n",
      "  mode, _ = stats.mode(_y[neigh_ind, k], axis=1)\n",
      "/Users/sunandclouds/opt/anaconda3/lib/python3.8/site-packages/sklearn/neighbors/_classification.py:189: FutureWarning: Unlike other reduction functions (e.g. `skew`, `kurtosis`), the default behavior of `mode` typically preserves the axis it acts along. In SciPy 1.11.0, this behavior will change: the default value of `keepdims` will become False, the `axis` over which the statistic is taken will be eliminated, and the value None will no longer be accepted. Set `keepdims` to True or False to avoid this warning.\n",
      "  mode, _ = stats.mode(_y[neigh_ind, k], axis=1)\n",
      "/Users/sunandclouds/opt/anaconda3/lib/python3.8/site-packages/sklearn/neighbors/_classification.py:189: FutureWarning: Unlike other reduction functions (e.g. `skew`, `kurtosis`), the default behavior of `mode` typically preserves the axis it acts along. In SciPy 1.11.0, this behavior will change: the default value of `keepdims` will become False, the `axis` over which the statistic is taken will be eliminated, and the value None will no longer be accepted. Set `keepdims` to True or False to avoid this warning.\n",
      "  mode, _ = stats.mode(_y[neigh_ind, k], axis=1)\n"
     ]
    }
   ],
   "source": [
    "from sklearn.model_selection import KFold, cross_val_score\n",
    "\n",
    "# Assuming X and y are already defined with your dataset and labels\n",
    "# Also assuming important_features is defined\n",
    "\n",
    "X = data[important_features]\n",
    "\n",
    "# Standardizing the features\n",
    "scaler = StandardScaler()\n",
    "X_scaled = scaler.fit_transform(X)\n",
    "\n",
    "# Creating a KNN classifier\n",
    "knn = KNeighborsClassifier(n_neighbors=2)\n",
    "\n",
    "# Setting up k-fold cross-validation\n",
    "kf = KFold(n_splits=5, random_state=0, shuffle=True)\n",
    "\n",
    "# Evaluating the classifier using cross-validation\n",
    "scores = cross_val_score(knn, X_scaled, y, cv=kf)\n",
    "\n",
    "# The scores for each fold\n",
    "print(\"Scores for each fold:\", scores)\n",
    "\n",
    "# Average score over all folds\n",
    "print(\"Average score:\", scores.mean())\n"
   ]
  },
  {
   "cell_type": "code",
   "execution_count": null,
   "id": "2d9097a2-3528-474a-a8e4-fc1366af69c8",
   "metadata": {},
   "outputs": [],
   "source": []
  },
  {
   "cell_type": "code",
   "execution_count": null,
   "id": "cc0389d3-609c-4a50-a706-77960cb988e1",
   "metadata": {},
   "outputs": [],
   "source": []
  }
 ],
 "metadata": {
  "kernelspec": {
   "display_name": "Python 3",
   "language": "python",
   "name": "python3"
  },
  "language_info": {
   "codemirror_mode": {
    "name": "ipython",
    "version": 3
   },
   "file_extension": ".py",
   "mimetype": "text/x-python",
   "name": "python",
   "nbconvert_exporter": "python",
   "pygments_lexer": "ipython3",
   "version": "3.8.5"
  }
 },
 "nbformat": 4,
 "nbformat_minor": 5
}
