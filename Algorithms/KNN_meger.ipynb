{
 "cells": [
  {
   "cell_type": "code",
   "execution_count": 10,
   "metadata": {},
   "outputs": [],
   "source": [
    "import numpy as np\n",
    "import pandas as pd\n",
    "from sklearn.model_selection import train_test_split\n",
    "from sklearn.neighbors import KNeighborsClassifier\n",
    "from sklearn.metrics import classification_report, confusion_matrix, accuracy_score\n",
    "from sklearn.preprocessing import StandardScaler\n",
    "from sklearn.pipeline import make_pipeline\n",
    "from sklearn.model_selection import cross_val_score\n",
    "from sklearn.decomposition import PCA\n",
    "import matplotlib.pyplot as plt\n",
    "from sklearn.model_selection import StratifiedKFold"
   ]
  },
  {
   "cell_type": "code",
   "execution_count": 3,
   "metadata": {},
   "outputs": [],
   "source": [
    "# Load the dataset\n",
    "file_path = 'training_data.csv'\n",
    "data = pd.read_csv(file_path)\n",
    "data['increase_stock_binary'] = data['increase_stock'].apply(lambda x: 1 if x == 'high_bike_demand' else 0)\n",
    "# Separating features and the target variable\n"
   ]
  },
  {
   "cell_type": "code",
   "execution_count": 4,
   "metadata": {},
   "outputs": [],
   "source": [
    "# X = data.drop(['increase_stock', 'increase_stock_binary'], axis=1)\n",
    "# y = data['increase_stock_binary']\n",
    "# X_train, X_test, y_train, y_test = train_test_split(X, y, test_size=0.2, random_state=1)\n",
    " # 将数据集分割为特征和目标\n",
    "X = data.drop(['increase_stock','increase_stock_binary','dew','precip','cloudcover','visibility'], axis=1)\n",
    "y = data['increase_stock_binary']\n",
    "\n",
    " # 将数据分割为训练集和测试集\n",
    "X_train, X_test, y_train, y_test = train_test_split(X, y, train_size=0.25, random_state=0)"
   ]
  },
  {
   "cell_type": "code",
   "execution_count": 12,
   "metadata": {},
   "outputs": [
    {
     "name": "stdout",
     "output_type": "stream",
     "text": [
      "Classification Report:\n",
      "               precision    recall  f1-score   support\n",
      "\n",
      "           0       0.88      0.95      0.91       979\n",
      "           1       0.65      0.44      0.52       221\n",
      "\n",
      "    accuracy                           0.85      1200\n",
      "   macro avg       0.76      0.69      0.72      1200\n",
      "weighted avg       0.84      0.85      0.84      1200\n",
      "\n",
      "Confusion Matrix:\n",
      " [[926  53]\n",
      " [124  97]]\n",
      "Accuracy Score:\n",
      " 0.8525\n",
      "Cross-Validation Scores:\n",
      " [0.840625 0.8625   0.875    0.8625   0.86875 ]\n"
     ]
    }
   ],
   "source": [
    "# Standardizing features\n",
    "scaler = StandardScaler()\n",
    "X_train = scaler.fit_transform(X_train)\n",
    "X_test = scaler.transform(X_test)\n",
    "\n",
    "# Creating a KNN classifier and pipeline\n",
    "knn = KNeighborsClassifier(n_neighbors=5)\n",
    "pipeline = make_pipeline(StandardScaler(), knn)\n",
    "\n",
    "# Fitting the classifier to the training data\n",
    "knn.fit(X_train, y_train)\n",
    "\n",
    "# Making predictions on the test data\n",
    "y_pred = knn.predict(X_test)\n",
    "\n",
    "# Performing cross-validation using StratifiedKFold\n",
    "stratified_k_fold = StratifiedKFold(n_splits=5)\n",
    "scores = cross_val_score(pipeline, X, y, cv=stratified_k_fold)\n",
    "\n",
    "# Generating a classification report and confusion matrix\n",
    "classification_report_result = classification_report(y_test, y_pred)\n",
    "confusion_matrix_result = confusion_matrix(y_test, y_pred)\n",
    "accuracy_score_data = accuracy_score(y_test, y_pred)\n",
    "\n",
    "# Printing the results\n",
    "print(\"Classification Report:\\n\", classification_report_result)\n",
    "print(\"Confusion Matrix:\\n\", confusion_matrix_result)\n",
    "print(\"Accuracy Score:\\n\", accuracy_score_data)\n",
    "print(\"Cross-Validation Scores:\\n\", scores)"
   ]
  },
  {
   "cell_type": "code",
   "execution_count": null,
   "metadata": {},
   "outputs": [],
   "source": []
  }
 ],
 "metadata": {
  "kernelspec": {
   "display_name": "deeplearning",
   "language": "python",
   "name": "python3"
  },
  "language_info": {
   "codemirror_mode": {
    "name": "ipython",
    "version": 3
   },
   "file_extension": ".py",
   "mimetype": "text/x-python",
   "name": "python",
   "nbconvert_exporter": "python",
   "pygments_lexer": "ipython3",
   "version": "3.10.13"
  }
 },
 "nbformat": 4,
 "nbformat_minor": 2
}
